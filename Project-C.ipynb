{
 "cells": [
  {
   "cell_type": "code",
   "execution_count": 1,
   "id": "f63cfcfc",
   "metadata": {},
   "outputs": [],
   "source": [
    "import numpy as np\n",
    "from PIL import Image\n",
    "import os\n",
    "import cv2\n",
    "import PIL"
   ]
  },
  {
   "cell_type": "code",
   "execution_count": null,
   "id": "8729024d",
   "metadata": {},
   "outputs": [],
   "source": [
    "os.mkdir('results/')"
   ]
  },
  {
   "cell_type": "code",
   "execution_count": 2,
   "id": "f34f46cf",
   "metadata": {},
   "outputs": [],
   "source": [
    "def messageToBinary(message):\n",
    "    if type(message) == str:\n",
    "        return ''.join([format(ord(i),'08b') for i in message])\n",
    "    elif type(message) == bytes or type(message) == np.ndarray:\n",
    "        return [format(i, '08b') for i in message]\n",
    "    elif type(message)==int:\n",
    "        return format(message,'08b')\n",
    "    else:\n",
    "        raise TypeError('Invalid Data Type')"
   ]
  },
  {
   "cell_type": "code",
   "execution_count": 3,
   "id": "bf9b42a7",
   "metadata": {},
   "outputs": [],
   "source": [
    "def showImage(src,title,text=''):\n",
    "    #print(src)\n",
    "    image = cv2.imread(src)\n",
    "    #print(image)\n",
    "    height = image.shape[0]\n",
    "    cv2.putText(image,text,(0,height//2), cv2.FONT_HERSHEY_SIMPLEX, 1, (255,0,0), 2)\n",
    "    cv2.imshow(title,image)\n",
    "    cv2.waitKey(0)\n",
    "    cv2.destroyAllWindows()\n"
   ]
  },
  {
   "cell_type": "code",
   "execution_count": 4,
   "id": "292302d1",
   "metadata": {},
   "outputs": [],
   "source": [
    "def Encode(src, message, dest):\n",
    "    showImage(src,'Original Image')\n",
    "    img = Image.open(src).convert('RGB')\n",
    "    width, height = img.size\n",
    "    array = np.array(list(img.getdata()))\n",
    "\n",
    "    if img.mode == 'RGB':\n",
    "        n = 3\n",
    "    elif img.mode == 'RGBA':\n",
    "        n = 4\n",
    "\n",
    "    total_pixels = array.size//n\n",
    "    \n",
    "    message += \"&I$igm@\"\n",
    "    b_message = messageToBinary(message)\n",
    "    req_pixels = len(b_message)\n",
    "\n",
    "    if req_pixels > total_pixels:\n",
    "        raise ValueError('Need A Large Image')\n",
    "\n",
    "    else:\n",
    "        index=0\n",
    "        for p in range(total_pixels):\n",
    "            for q in range(0, 3):\n",
    "                if index < req_pixels:\n",
    "                    array[p][q] = int(bin(array[p][q])[2:9] + b_message[index], 2)\n",
    "                    index += 1\n",
    "\n",
    "        array=array.reshape(height, width, n)\n",
    "        enc_img = Image.fromarray(array.astype('uint8'), img.mode)\n",
    "        enc_img.save(dest)\n",
    "        print(\"Image Encoded Successfully\")"
   ]
  },
  {
   "cell_type": "code",
   "execution_count": 5,
   "id": "c5183975",
   "metadata": {},
   "outputs": [],
   "source": [
    "def Decode(src):\n",
    "\n",
    "    img = Image.open(src, 'r')\n",
    "    array = np.array(list(img.getdata()))\n",
    "\n",
    "    if img.mode == 'RGB':\n",
    "        n = 3\n",
    "    elif img.mode == 'RGBA':\n",
    "        n = 4\n",
    "\n",
    "    total_pixels = array.size//n\n",
    "\n",
    "    hidden_bits = \"\"\n",
    "    for p in range(total_pixels):\n",
    "        for q in range(0, 3):\n",
    "            hidden_bits += (bin(array[p][q])[2:][-1])\n",
    "\n",
    "    hidden_bits = [hidden_bits[i:i+8] for i in range(0, len(hidden_bits), 8)]\n",
    "\n",
    "    message = \"\"\n",
    "    for i in range(len(hidden_bits)):\n",
    "        if message[-7:] == \"&I$igm@\":\n",
    "            break\n",
    "        else:\n",
    "            message += chr(int(hidden_bits[i], 2))\n",
    "    if \"&I$igm@\" in message:\n",
    "        print(\"Hidden Message:\", message[:-7])\n",
    "        showImage(src,title = \"Decoded\", text=message[:-7])\n",
    "    else:\n",
    "        print(\"No Hidden Message Found\")"
   ]
  },
  {
   "cell_type": "code",
   "execution_count": 6,
   "id": "b37af3d0",
   "metadata": {},
   "outputs": [
    {
     "name": "stdout",
     "output_type": "stream",
     "text": [
      "Image Encoded Successfully\n"
     ]
    }
   ],
   "source": [
    "def main():\n",
    "    Encode('test-images/pikachu.png',\"Hello World\",\"results/img1.png\")\n",
    "    #count += 1\n",
    "main()\n"
   ]
  },
  {
   "cell_type": "code",
   "execution_count": 7,
   "id": "d3d03b0d",
   "metadata": {},
   "outputs": [
    {
     "name": "stdout",
     "output_type": "stream",
     "text": [
      "Hidden Message: Hello World\n"
     ]
    }
   ],
   "source": [
    "#print(messageToBinary(\"ABC6$igm@\"))\n",
    "Decode('results/img1.png')"
   ]
  },
  {
   "cell_type": "code",
   "execution_count": null,
   "id": "c03eca7c",
   "metadata": {},
   "outputs": [],
   "source": []
  }
 ],
 "metadata": {
  "kernelspec": {
   "display_name": "Python 3.6.9 64-bit",
   "language": "python",
   "name": "python36964bitc8dafa62523d4293a6b88245bb698177"
  },
  "language_info": {
   "codemirror_mode": {
    "name": "ipython",
    "version": 3
   },
   "file_extension": ".py",
   "mimetype": "text/x-python",
   "name": "python",
   "nbconvert_exporter": "python",
   "pygments_lexer": "ipython3",
   "version": "3.6.9"
  }
 },
 "nbformat": 4,
 "nbformat_minor": 5
}
